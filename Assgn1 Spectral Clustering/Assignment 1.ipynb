{
 "cells": [
  {
   "cell_type": "code",
   "execution_count": 1,
   "metadata": {},
   "outputs": [],
   "source": [
    "import pandas as pd\n",
    "import numpy as np\n",
    "from sklearn.cluster import KMeans\n",
    "from sklearn import preprocessing"
   ]
  },
  {
   "cell_type": "code",
   "execution_count": 2,
   "metadata": {},
   "outputs": [],
   "source": [
    "def cosineSimilarity(a,b):\n",
    "    return (np.dot(a,b))/ (np.linalg.norm(a) * np.linalg.norm(b ))"
   ]
  },
  {
   "cell_type": "code",
   "execution_count": 3,
   "metadata": {},
   "outputs": [],
   "source": [
    "def gaussianSimilarity(a,b):\n",
    "    sigma = 1\n",
    "    return np.exp((-1*(np.linalg.norm(a-b)**2)) / (2*sigma**2))"
   ]
  },
  {
   "cell_type": "code",
   "execution_count": 14,
   "metadata": {},
   "outputs": [],
   "source": [
    "def calcSimilarityMatrix(X, similarityFunction):\n",
    "    dataShape = np.shape(X)\n",
    "    print(dataShape)\n",
    "    similarityMatrix = np.zeros((dataShape[0],dataShape[0]))\n",
    "    for i in range(dataShape[0]):\n",
    "        for j in range(dataShape[0]):\n",
    "            similarityMatrix[i][j] = similarityFunction(X[i],X[j])\n",
    "            #similarityMatrix[i][j] = similarityFunction(X.iloc[i],X.iloc[j])\n",
    "        #print(i)\n",
    "    return similarityMatrix"
   ]
  },
  {
   "cell_type": "code",
   "execution_count": 15,
   "metadata": {},
   "outputs": [],
   "source": [
    "def normalizeData(X):\n",
    "    for columns in X.columns :\n",
    "        minValue = X[columns].min()\n",
    "        maxValue = X[columns].max()\n",
    "        X[columns] = (X[columns] - minValue) / (maxValue - minValue)\n",
    "    return X"
   ]
  },
  {
   "cell_type": "code",
   "execution_count": 16,
   "metadata": {},
   "outputs": [
    {
     "name": "stdout",
     "output_type": "stream",
     "text": [
      "(1163, 9)\n"
     ]
    }
   ],
   "source": [
    "X = pd.read_csv('dataset.csv')\n",
    "#X = normalizeData(X)\n",
    "X = preprocessing.scale(X)\n",
    "A = calcSimilarityMatrix(X,gaussianSimilarity)"
   ]
  },
  {
   "cell_type": "code",
   "execution_count": 17,
   "metadata": {},
   "outputs": [
    {
     "name": "stdout",
     "output_type": "stream",
     "text": [
      "[[ 6.56220669e-02 -2.59854179e-13 -1.22580132e-12 ... -1.24951101e-11\n",
      "  -9.37165581e-15 -2.13015152e-11]\n",
      " [-2.59854179e-13  9.83218357e-01 -9.17848349e-04 ... -6.22936041e-05\n",
      "  -2.55714280e-06 -4.24659557e-07]\n",
      " [-1.22580132e-12 -9.17848349e-04  9.86657864e-01 ... -8.35025150e-05\n",
      "  -4.77832993e-05 -2.61269116e-06]\n",
      " ...\n",
      " [-1.24951101e-11 -6.22936041e-05 -8.35025150e-05 ...  9.88929259e-01\n",
      "  -3.02180545e-04 -1.41969558e-03]\n",
      " [-9.37165581e-15 -2.55714280e-06 -4.77832993e-05 ... -3.02180545e-04\n",
      "   9.91198496e-01 -4.02000047e-04]\n",
      " [-2.13015152e-11 -4.24659557e-07 -2.61269116e-06 ... -1.41969558e-03\n",
      "  -4.02000047e-04  9.77592209e-01]]\n"
     ]
    }
   ],
   "source": [
    "D = np.diag(A.sum(axis = 1))\n",
    "L = D - A\n",
    "D_inverse = np.linalg.inv(D) ** 0.5\n",
    "Normalized_L = np.matmul(np.matmul(D_inverse,L),D_inverse)\n",
    "print(Normalized_L)"
   ]
  },
  {
   "cell_type": "code",
   "execution_count": 18,
   "metadata": {},
   "outputs": [],
   "source": [
    "vals, vecs = np.linalg.eig(Normalized_L)\n",
    "vecs = vecs[:,np.argsort(vals)]\n",
    "vals = vals[np.argsort(vals)]"
   ]
  },
  {
   "cell_type": "code",
   "execution_count": 19,
   "metadata": {},
   "outputs": [
    {
     "name": "stdout",
     "output_type": "stream",
     "text": [
      "[-2.22076610e-16 -6.76672104e-17  5.59924820e-16 ...  9.99999844e-01\n",
      "  9.99999867e-01  9.99999929e-01]\n"
     ]
    }
   ],
   "source": [
    "#choosing value of k that maximised (abs(delta_k - delta_(k-1)))\n",
    "print(vals)\n",
    "bestVal = (0,0)\n",
    "for i in range(1,len(vals)):\n",
    "    if(abs(vals[i]-vals[i-1]) > bestVal[0]):\n",
    "        bestVal = (abs(vals[i]-vals[i-1]) , i+1)\n",
    "    "
   ]
  },
  {
   "cell_type": "code",
   "execution_count": 20,
   "metadata": {},
   "outputs": [
    {
     "name": "stdout",
     "output_type": "stream",
     "text": [
      "[1135, 1, 1, 1, 1, 1, 1, 1, 1, 1, 1, 1, 2, 1, 2, 1, 9, 1, 1]\n",
      "19\n"
     ]
    }
   ],
   "source": [
    "kmeans = KMeans(n_clusters = bestVal[1])\n",
    "labels = kmeans.fit(vecs[:,1:bestVal[1]])\n",
    "colours = kmeans.labels_\n",
    "final =  [ 0 for x in range(bestVal[1])]\n",
    "for i in range(len(colours)):\n",
    "    final[colours[i]] +=1\n",
    "\n",
    "print(final)\n",
    "print(bestVal[1])\n",
    "#print(np.sum(colours),len(colours)-np.sum(colours))"
   ]
  },
  {
   "cell_type": "code",
   "execution_count": 21,
   "metadata": {},
   "outputs": [
    {
     "name": "stdout",
     "output_type": "stream",
     "text": [
      "(1163, 1163)\n"
     ]
    }
   ],
   "source": [
    "print(np.shape(vecs))"
   ]
  },
  {
   "cell_type": "code",
   "execution_count": 22,
   "metadata": {},
   "outputs": [
    {
     "name": "stdout",
     "output_type": "stream",
     "text": [
      "19\n"
     ]
    }
   ],
   "source": [
    "print(bestVal[1])"
   ]
  },
  {
   "cell_type": "code",
   "execution_count": null,
   "metadata": {},
   "outputs": [],
   "source": []
  }
 ],
 "metadata": {
  "kernelspec": {
   "display_name": "Python 3",
   "language": "python",
   "name": "python3"
  },
  "language_info": {
   "codemirror_mode": {
    "name": "ipython",
    "version": 3
   },
   "file_extension": ".py",
   "mimetype": "text/x-python",
   "name": "python",
   "nbconvert_exporter": "python",
   "pygments_lexer": "ipython3",
   "version": "3.6.9"
  }
 },
 "nbformat": 4,
 "nbformat_minor": 4
}
