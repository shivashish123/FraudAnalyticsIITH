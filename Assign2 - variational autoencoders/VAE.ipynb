{
 "cells": [
  {
   "cell_type": "code",
   "execution_count": 1,
   "metadata": {},
   "outputs": [],
   "source": [
    "import torch\n",
    "import torch.nn as nn\n",
    "import torch.nn.functional as F \n",
    "import torch.optim as optim\n",
    "import os \n",
    "import numpy as np\n",
    "import pandas as pd \n",
    "from sklearn.cluster import KMeans\n",
    "import matplotlib.pyplot as plt\n",
    "import matplotlib.pyplot as plt\n",
    "from collections import Counter"
   ]
  },
  {
   "cell_type": "code",
   "execution_count": 2,
   "metadata": {},
   "outputs": [],
   "source": [
    "data = pd.read_csv('data.csv')"
   ]
  },
  {
   "cell_type": "code",
   "execution_count": 3,
   "metadata": {},
   "outputs": [],
   "source": [
    "# print(data.shape)"
   ]
  },
  {
   "cell_type": "code",
   "execution_count": 4,
   "metadata": {},
   "outputs": [],
   "source": [
    "# converting to tensor\n",
    "data = torch.tensor(data.values)\n",
    "data = data.float()"
   ]
  },
  {
   "cell_type": "code",
   "execution_count": 5,
   "metadata": {},
   "outputs": [],
   "source": [
    "# CONSTANTS\n",
    "N_EPOCHS = 500           \n",
    "INPUT_DIM = 9           \n",
    "HIDDEN_DIM = 7         \n",
    "LATENT_DIM = 4           \n",
    "lr = 1e-4 "
   ]
  },
  {
   "cell_type": "code",
   "execution_count": 6,
   "metadata": {},
   "outputs": [],
   "source": [
    "# Encoder\n",
    "class Encoder(nn.Module):\n",
    "    def __init__(self, input_dim, hidden_dim, z_dim):\n",
    "        super().__init__()\n",
    "        self.linear = nn.Linear(input_dim, hidden_dim)\n",
    "        self.mu = nn.Linear(hidden_dim, z_dim)\n",
    "        self.var = nn.Linear(hidden_dim, z_dim)\n",
    "\n",
    "    def forward(self, x):\n",
    "        # non linear function of input\n",
    "        hidden = F.relu(self.linear(x))\n",
    "       \n",
    "        # mean of latent variable distribution\n",
    "        z_mu = self.mu(hidden)\n",
    "\n",
    "        # variance of latent variable distribution\n",
    "        log_z_var = self.var(hidden)\n",
    "\n",
    "        return z_mu, log_z_var"
   ]
  },
  {
   "cell_type": "code",
   "execution_count": 7,
   "metadata": {},
   "outputs": [],
   "source": [
    "# Decoder\n",
    "class Decoder(nn.Module):\n",
    "    def __init__(self, z_dim, hidden_dim, output_dim):\n",
    "        super().__init__()\n",
    "\n",
    "        self.linear = nn.Linear(z_dim, hidden_dim)\n",
    "        self.out = nn.Linear(hidden_dim, output_dim)\n",
    "\n",
    "    def forward(self, x):\n",
    "        # non linear function of latent variable\n",
    "        hidden = F.relu(self.linear(x))\n",
    "\n",
    "        predicted = self.out(hidden)\n",
    "\n",
    "        return predicted"
   ]
  },
  {
   "cell_type": "code",
   "execution_count": 8,
   "metadata": {},
   "outputs": [],
   "source": [
    "class VAE(nn.Module):\n",
    "    def __init__(self, enc, dec):\n",
    "        super().__init__()\n",
    "\n",
    "        self.enc = enc\n",
    "        self.dec = dec\n",
    "\n",
    "    def forward(self, x):\n",
    "        # encode the input, generate mean and variance of latent variable distribution\n",
    "        z_mu, z_var = self.enc(x)\n",
    "\n",
    "        # standard deviation\n",
    "        std = torch.exp(z_var / 2)\n",
    "        # small epsilon value sampled from N(0,I) of size same as std\n",
    "        eps = torch.randn_like(std)\n",
    "        \n",
    "        # sample from the distribution having latent parameters z_mu, z_var\n",
    "        # using reparametrisation trick to simplify gradient descent\n",
    "        x_sample = eps.mul(std).add_(z_mu)\n",
    "\n",
    "        # decode the sample\n",
    "        predicted = self.dec(x_sample)\n",
    "\n",
    "        return predicted, z_mu, z_var\n",
    "    \n",
    "    \n",
    "    def gen(self, x):\n",
    "        z_mu, z_var = self.enc(x)\n",
    "\n",
    "        std = torch.exp(z_var / 2)\n",
    "        # small epsilon value sampled from N(0,I) of size same as std\n",
    "        eps = torch.randn_like(std)\n",
    "\n",
    "        # generate new sample from the distribution having latent parameters z_mu, z_var\n",
    "        # using reparametrisation trick to simplify gradient descent\n",
    "        x_sample = eps.mul(std).add_(z_mu)\n",
    "        \n",
    "        return x_sample"
   ]
  },
  {
   "cell_type": "code",
   "execution_count": 9,
   "metadata": {},
   "outputs": [],
   "source": [
    "# encoder\n",
    "encoder = Encoder(INPUT_DIM, HIDDEN_DIM, LATENT_DIM)"
   ]
  },
  {
   "cell_type": "code",
   "execution_count": 10,
   "metadata": {},
   "outputs": [],
   "source": [
    "# decoder\n",
    "decoder = Decoder(LATENT_DIM, HIDDEN_DIM, INPUT_DIM)"
   ]
  },
  {
   "cell_type": "code",
   "execution_count": 11,
   "metadata": {},
   "outputs": [],
   "source": [
    "# vae\n",
    "model = VAE(encoder, decoder)"
   ]
  },
  {
   "cell_type": "code",
   "execution_count": 12,
   "metadata": {},
   "outputs": [],
   "source": [
    "# optimizer\n",
    "optimizer = optim.Adam(model.parameters(), lr=lr)"
   ]
  },
  {
   "cell_type": "code",
   "execution_count": 13,
   "metadata": {},
   "outputs": [],
   "source": [
    "def train():\n",
    "    # set the train mode\n",
    "    model.train()\n",
    "\n",
    "    # loss of the epoch\n",
    "    train_loss = 0\n",
    "\n",
    "    for i in range(list(data.size())[0]):\n",
    "        x = data[i,:]\n",
    "\n",
    "        # update the gradients to zero\n",
    "        optimizer.zero_grad()\n",
    "\n",
    "        # forward pass\n",
    "        x_sample, z_mu, log_z_var = model(x)\n",
    "\n",
    "        # reconstruction loss, squared loss\n",
    "        recon_loss = torch.sum((x-x_sample)**2)\n",
    "        # print(recon_loss)\n",
    "\n",
    "        # kl divergence loss\n",
    "        kl_loss = 0.5 * torch.sum(torch.exp(log_z_var) + z_mu**2 - 1.0 - log_z_var)\n",
    "        # print(kl_loss)\n",
    "        \n",
    "        # total loss\n",
    "        loss = recon_loss + kl_loss\n",
    "\n",
    "        # backward propagation\n",
    "        loss.backward()\n",
    "\n",
    "        # adding total loss\n",
    "        train_loss += loss.item()\n",
    "        # print(train_loss)\n",
    "\n",
    "        # update the weights of NN\n",
    "        optimizer.step()\n",
    "\n",
    "    return train_loss"
   ]
  },
  {
   "cell_type": "code",
   "execution_count": 14,
   "metadata": {},
   "outputs": [],
   "source": [
    "# # CONSTANTS\n",
    "# N_EPOCHS = 500     \n",
    "# INPUT_DIM = 9           \n",
    "# HIDDEN_DIM = 7         \n",
    "# LATENT_DIM = 4           \n",
    "# lr = 1e-4 "
   ]
  },
  {
   "cell_type": "code",
   "execution_count": 15,
   "metadata": {},
   "outputs": [],
   "source": [
    "# HIDDEN_DIMS = [5, 6, 7, 8]\n",
    "# LATENT_DIMS = [4, 5, 6]\n",
    "# for hidden_dim in HIDDEN_DIMS:\n",
    "#     for latent_dim in LATENT_DIMS:\n",
    "#         print(hidden_dim, latent_adim)\n",
    "#         HIDDEN_DIM = hidden_dim\n",
    "#         LATENT_DIM = latent_dim\n",
    "#         # encoder\n",
    "#         encoder = Encoder(INPUT_DIM, HIDDEN_DIM, LATENT_DIM)\n",
    "#         # decoder\n",
    "#         decoder = Decoder(LATENT_DIM, HIDDEN_DIM, INPUT_DIM)\n",
    "#         # vae\n",
    "#         model = VAE(encoder, decoder)\n",
    "#         # optimizer\n",
    "#         optimizer = optim.Adam(model.parameters(), lr=lr)\n",
    "#         for epoch in range(N_EPOCHS):\n",
    "#             train_loss = train()\n",
    "#             train_loss /= list(data.size())[0]\n",
    "# #     print('Epoch %d, Train Loss: %.2f'%(epoch, train_loss))\n",
    "#             print(\"%.2f\"%(train_loss), end=' ')\n",
    "#         print()"
   ]
  },
  {
   "cell_type": "code",
   "execution_count": 16,
   "metadata": {},
   "outputs": [
    {
     "name": "stdout",
     "output_type": "stream",
     "text": [
      "5.41 4.27 3.64 3.31 3.15 3.02 2.97 2.91 2.87 2.83 2.81 2.79 2.78 2.77 2.78 2.76 2.76 2.73 2.74 2.73 2.72 2.70 2.66 2.72 2.71 2.65 2.66 2.65 2.66 2.66 2.63 2.66 2.62 2.63 2.62 2.66 2.63 2.63 2.59 2.62 2.65 2.60 2.58 2.60 2.67 2.61 2.58 2.63 2.62 2.55 2.68 2.58 2.66 2.62 2.60 2.63 2.62 2.60 2.60 2.62 2.61 2.60 2.61 2.56 2.54 2.59 2.60 2.59 2.59 2.60 2.57 2.56 2.61 2.55 2.63 2.54 2.59 2.61 2.58 2.59 2.59 2.55 2.54 2.56 2.53 2.57 2.53 2.58 2.59 2.53 2.60 2.51 2.55 2.55 2.57 2.55 2.59 2.53 2.49 2.52 2.53 2.56 2.49 2.54 2.54 2.53 2.52 2.55 2.49 2.53 2.52 2.55 2.51 2.50 2.51 2.52 2.50 2.54 2.53 2.50 2.53 2.50 2.55 2.52 2.51 2.53 2.48 2.56 2.51 2.53 2.54 2.54 2.53 2.49 2.54 2.51 2.50 2.46 2.51 2.48 2.50 2.51 2.51 2.49 2.54 2.51 2.48 2.52 2.51 2.49 2.52 2.49 2.47 2.50 2.50 2.51 2.51 2.47 2.46 2.48 2.48 2.49 2.48 2.50 2.45 2.50 2.45 2.48 2.48 2.50 2.47 2.48 2.47 2.46 2.46 2.50 2.47 2.45 2.46 2.49 2.44 2.44 2.51 2.50 2.45 2.45 2.42 2.49 2.47 2.46 2.46 2.48 2.47 2.38 2.43 2.41 2.44 2.45 2.41 2.46 2.40 2.39 2.39 2.45 2.44 2.37 2.40 2.44 2.41 2.40 2.41 2.37 2.41 2.37 2.38 2.40 2.39 2.34 2.36 2.37 2.37 2.36 2.35 2.32 2.33 2.33 2.35 2.32 2.37 2.32 2.30 2.32 2.35 2.30 2.35 2.30 2.33 2.35 2.26 2.28 2.32 2.29 2.30 2.35 2.28 2.26 2.30 2.26 2.27 2.26 2.26 2.25 2.23 2.22 2.27 2.21 2.22 2.19 2.17 2.23 2.21 2.17 2.17 2.20 2.20 2.16 2.15 2.20 2.14 2.19 2.17 2.19 2.11 2.15 2.15 2.15 2.14 2.14 2.12 2.12 2.10 2.14 2.13 2.07 2.11 2.08 2.07 2.07 2.02 2.05 2.02 2.06 2.04 2.02 2.03 2.04 2.01 1.99 2.01 2.03 1.99 2.05 1.99 2.02 1.99 1.95 2.02 2.00 1.94 1.95 1.97 1.99 1.98 2.01 1.99 1.94 1.96 1.96 1.93 1.95 1.97 1.92 1.96 1.93 1.91 1.93 1.95 1.96 1.92 1.91 1.89 1.88 1.91 1.91 1.91 1.90 1.87 1.88 1.91 1.87 1.86 1.86 1.86 1.85 1.89 1.85 1.88 1.82 1.86 1.83 1.82 1.87 1.85 1.81 1.83 1.86 1.79 1.83 1.81 1.85 1.80 1.83 1.77 1.82 1.79 1.82 1.82 1.80 1.82 1.77 1.81 1.80 1.79 1.82 1.80 1.78 1.79 1.76 1.77 1.79 1.75 1.78 1.77 1.78 1.76 1.81 1.77 1.78 1.78 1.80 1.77 1.77 1.75 1.75 1.76 1.73 1.72 1.75 1.75 1.73 1.71 1.75 1.74 1.75 1.70 1.70 1.73 1.71 1.70 1.75 1.72 1.72 1.72 1.69 1.70 1.72 1.75 1.73 1.75 1.73 1.73 1.73 1.73 1.72 1.70 1.68 1.69 1.72 1.71 1.69 1.72 1.68 1.69 1.69 1.67 1.72 1.74 1.72 1.72 1.72 1.67 1.67 1.72 1.68 1.67 1.65 1.65 1.73 1.72 1.70 1.67 1.67 1.71 1.72 1.67 1.70 1.72 1.67 1.67 1.64 1.69 1.69 1.66 1.68 1.68 1.72 1.69 1.68 1.65 1.68 1.67 1.69 1.70 1.65 1.66 1.70 1.65 1.66 1.63 1.70 1.67 1.69 1.65 1.67 1.68 1.69 1.69 1.65 1.65 1.69 1.67 1.65 1.67 1.67 1.68 1.67 1.64 1.67 1.65 1.64 "
     ]
    }
   ],
   "source": [
    "# train for N_EPOCHS\n",
    "for epoch in range(N_EPOCHS):\n",
    "    train_loss = train()\n",
    "    train_loss /= list(data.size())[0]\n",
    "    print(\"%.2f\"%(train_loss), end=' ')"
   ]
  },
  {
   "cell_type": "code",
   "execution_count": 17,
   "metadata": {},
   "outputs": [
    {
     "name": "stdout",
     "output_type": "stream",
     "text": [
      "torch.Size([9])\n"
     ]
    }
   ],
   "source": [
    "new_X = np.zeros((data.shape[0], LATENT_DIM), dtype=float)\n",
    "print(data[0,:].shape)\n",
    "for i in range(list(data.size())[0]):\n",
    "    x = data[i,:]\n",
    "    x_sample = model.gen(x)\n",
    "    x_sample_np = x_sample.detach().numpy()\n",
    "    new_X[i] = x_sample_np"
   ]
  },
  {
   "cell_type": "code",
   "execution_count": 18,
   "metadata": {},
   "outputs": [
    {
     "name": "stdout",
     "output_type": "stream",
     "text": [
      "torch.Size([1163, 9])\n",
      "(1163, 4)\n"
     ]
    }
   ],
   "source": [
    "print(data.shape)\n",
    "print(new_X.shape)"
   ]
  },
  {
   "cell_type": "code",
   "execution_count": null,
   "metadata": {},
   "outputs": [],
   "source": [
    "# new_data = pd.DataFrame(new_X, columns = ['P1', 'P2', 'P3', 'P4'])\n",
    "# new_data.to_csv('new_data.csv')"
   ]
  },
  {
   "cell_type": "code",
   "execution_count": null,
   "metadata": {},
   "outputs": [],
   "source": [
    "# data = pd.read_csv('new_data.csv')"
   ]
  },
  {
   "cell_type": "code",
   "execution_count": 19,
   "metadata": {},
   "outputs": [],
   "source": [
    "# new_X = data.values"
   ]
  },
  {
   "cell_type": "code",
   "execution_count": 20,
   "metadata": {},
   "outputs": [],
   "source": [
    "# K means clustering\n",
    "K = range(2, 50)"
   ]
  },
  {
   "cell_type": "code",
   "execution_count": 21,
   "metadata": {},
   "outputs": [],
   "source": [
    "inertias = [] \n",
    "\n",
    "for k in K: \n",
    "    #Building and fitting the model \n",
    "    kmeans_model = KMeans(n_clusters=k)\n",
    "    kmeans_model.fit(new_X)     \n",
    "    inertias.append(kmeans_model.inertia_) "
   ]
  },
  {
   "cell_type": "code",
   "execution_count": 22,
   "metadata": {},
   "outputs": [
    {
     "data": {
      "image/png": "[encoded data removed]",
      "text/plain": [
       "<Figure size 432x288 with 1 Axes>"
      ]
     },
     "metadata": {
      "needs_background": "light"
     },
     "output_type": "display_data"
    }
   ],
   "source": [
    "plt.plot(K, inertias, marker='o')\n",
    "plt.xlabel(\"Number of clusters\")\n",
    "plt.ylabel(\"Inertias\")\n",
    "plt.show()"
   ]
  },
  {
   "cell_type": "code",
   "execution_count": 23,
   "metadata": {},
   "outputs": [],
   "source": [
    "kmeans_model = KMeans(n_clusters=10).fit(new_X)"
   ]
  },
  {
   "cell_type": "code",
   "execution_count": 24,
   "metadata": {},
   "outputs": [
    {
     "data": {
      "text/plain": [
       "Counter({5: 108,\n",
       "         7: 132,\n",
       "         3: 145,\n",
       "         9: 148,\n",
       "         4: 140,\n",
       "         2: 153,\n",
       "         0: 124,\n",
       "         1: 106,\n",
       "         6: 106,\n",
       "         8: 1})"
      ]
     },
     "execution_count": 24,
     "metadata": {},
     "output_type": "execute_result"
    }
   ],
   "source": [
    "Counter(kmeans_model.labels_)"
   ]
  },
  {
   "cell_type": "code",
   "execution_count": 26,
   "metadata": {},
   "outputs": [
    {
     "name": "stdout",
     "output_type": "stream",
     "text": [
      "[ 0.01278498 -0.032408    0.04315907 -0.04779849]\n"
     ]
    }
   ],
   "source": [
    "from sklearn.preprocessing import StandardScaler\n",
    "scaler = StandardScaler()\n",
    "scaled_X = scaler.fit_transform(new_X)\n",
    "\n",
    "print(scaler.mean_)"
   ]
  },
  {
   "cell_type": "code",
   "execution_count": 27,
   "metadata": {},
   "outputs": [],
   "source": [
    "inertias = [] \n",
    "\n",
    "for k in K: \n",
    "    #Building and fitting the model \n",
    "    kmeans_model = KMeans(n_clusters=k)\n",
    "    kmeans_model.fit(scaled_X)     \n",
    "    inertias.append(kmeans_model.inertia_) "
   ]
  },
  {
   "cell_type": "code",
   "execution_count": 28,
   "metadata": {},
   "outputs": [
    {
     "data": {
      "image/png": "[encoded data removed]",
      "text/plain": [
       "<Figure size 432x288 with 1 Axes>"
      ]
     },
     "metadata": {
      "needs_background": "light"
     },
     "output_type": "display_data"
    }
   ],
   "source": [
    "plt.plot(K, inertias, marker='o')\n",
    "plt.xlabel(\"Number of clusters\")\n",
    "plt.ylabel(\"Inertias\")\n",
    "plt.show()"
   ]
  },
  {
   "cell_type": "code",
   "execution_count": 29,
   "metadata": {},
   "outputs": [],
   "source": [
    "kmeans_model = KMeans(n_clusters=20).fit(scaled_X)"
   ]
  },
  {
   "cell_type": "code",
   "execution_count": 30,
   "metadata": {},
   "outputs": [
    {
     "data": {
      "text/plain": [
       "Counter({17: 56,\n",
       "         7: 58,\n",
       "         14: 49,\n",
       "         1: 86,\n",
       "         0: 48,\n",
       "         13: 67,\n",
       "         11: 50,\n",
       "         6: 108,\n",
       "         15: 57,\n",
       "         5: 57,\n",
       "         16: 56,\n",
       "         2: 71,\n",
       "         12: 57,\n",
       "         18: 59,\n",
       "         3: 57,\n",
       "         10: 63,\n",
       "         19: 58,\n",
       "         9: 62,\n",
       "         8: 43,\n",
       "         4: 1})"
      ]
     },
     "execution_count": 30,
     "metadata": {},
     "output_type": "execute_result"
    }
   ],
   "source": [
    "Counter(kmeans_model.labels_)"
   ]
  },
  {
   "cell_type": "code",
   "execution_count": 31,
   "metadata": {},
   "outputs": [],
   "source": [
    "df = pd.read_csv('data.csv')\n",
    "X = df.values"
   ]
  },
  {
   "cell_type": "code",
   "execution_count": 32,
   "metadata": {},
   "outputs": [],
   "source": [
    "inertias = [] \n",
    "\n",
    "for k in K: \n",
    "    #Building and fitting the model \n",
    "    kmeans_model = KMeans(n_clusters=k)\n",
    "    kmeans_model.fit(X)     \n",
    "    inertias.append(kmeans_model.inertia_) "
   ]
  },
  {
   "cell_type": "code",
   "execution_count": 33,
   "metadata": {},
   "outputs": [
    {
     "data": {
      "image/png": "[encoded data removed]",
      "text/plain": [
       "<Figure size 432x288 with 1 Axes>"
      ]
     },
     "metadata": {
      "needs_background": "light"
     },
     "output_type": "display_data"
    }
   ],
   "source": [
    "plt.plot(K, inertias, marker='o')\n",
    "plt.xlabel(\"Number of clusters\")\n",
    "plt.ylabel(\"Inertias\")\n",
    "plt.show()"
   ]
  },
  {
   "cell_type": "code",
   "execution_count": 34,
   "metadata": {},
   "outputs": [],
   "source": [
    "kmeans_model = KMeans(n_clusters=10).fit(X)"
   ]
  },
  {
   "cell_type": "code",
   "execution_count": 35,
   "metadata": {},
   "outputs": [
    {
     "data": {
      "text/plain": [
       "Counter({6: 143,\n",
       "         9: 106,\n",
       "         4: 177,\n",
       "         0: 123,\n",
       "         1: 112,\n",
       "         8: 232,\n",
       "         3: 193,\n",
       "         7: 74,\n",
       "         5: 2,\n",
       "         2: 1})"
      ]
     },
     "execution_count": 35,
     "metadata": {},
     "output_type": "execute_result"
    }
   ],
   "source": [
    "Counter(kmeans_model.labels_)"
   ]
  },
  {
   "cell_type": "code",
   "execution_count": 36,
   "metadata": {},
   "outputs": [
    {
     "name": "stdout",
     "output_type": "stream",
     "text": [
      "[ 0.959524    0.85616583  0.2161109   0.14919403  0.60036861  0.52484523\n",
      "  0.00098841 -0.00269966 -0.02701196]\n"
     ]
    }
   ],
   "source": [
    "scaler = StandardScaler()\n",
    "scaled_X = scaler.fit_transform(X)\n",
    "\n",
    "print(scaler.mean_)"
   ]
  },
  {
   "cell_type": "code",
   "execution_count": 37,
   "metadata": {},
   "outputs": [],
   "source": [
    "inertias = [] \n",
    "\n",
    "for k in K: \n",
    "    #Building and fitting the model \n",
    "    kmeans_model = KMeans(n_clusters=k)\n",
    "    kmeans_model.fit(scaled_X)    \n",
    "    inertias.append(kmeans_model.inertia_) "
   ]
  },
  {
   "cell_type": "code",
   "execution_count": 38,
   "metadata": {},
   "outputs": [
    {
     "data": {
      "image/png": "[encoded data removed]",
      "text/plain": [
       "<Figure size 432x288 with 1 Axes>"
      ]
     },
     "metadata": {
      "needs_background": "light"
     },
     "output_type": "display_data"
    }
   ],
   "source": [
    "plt.plot(K, inertias, marker='o')\n",
    "plt.xlabel(\"Number of clusters\")\n",
    "plt.ylabel(\"Inertias\")\n",
    "plt.show()"
   ]
  },
  {
   "cell_type": "code",
   "execution_count": 39,
   "metadata": {},
   "outputs": [],
   "source": [
    "kmeans_model = KMeans(n_clusters=9).fit(scaled_X)"
   ]
  },
  {
   "cell_type": "code",
   "execution_count": 40,
   "metadata": {},
   "outputs": [
    {
     "data": {
      "text/plain": [
       "Counter({8: 95, 7: 186, 0: 259, 6: 272, 1: 211, 5: 29, 2: 108, 3: 2, 4: 1})"
      ]
     },
     "execution_count": 40,
     "metadata": {},
     "output_type": "execute_result"
    }
   ],
   "source": [
    "Counter(kmeans_model.labels_)"
   ]
  },
  {
   "cell_type": "code",
   "execution_count": null,
   "metadata": {},
   "outputs": [],
   "source": []
  }
 ],
 "metadata": {
  "kernelspec": {
   "display_name": "Python 3",
   "language": "python",
   "name": "python3"
  },
  "language_info": {
   "codemirror_mode": {
    "name": "ipython",
    "version": 3
   },
   "file_extension": ".py",
   "mimetype": "text/x-python",
   "name": "python",
   "nbconvert_exporter": "python",
   "pygments_lexer": "ipython3",
   "version": "3.6.9"
  }
 },
 "nbformat": 4,
 "nbformat_minor": 4
}
