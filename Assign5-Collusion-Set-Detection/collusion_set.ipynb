{
 "cells": [
  {
   "cell_type": "code",
   "execution_count": 1,
   "metadata": {},
   "outputs": [],
   "source": [
    "import numpy as np\n",
    "import pandas as pd\n",
    "from collections import defaultdict"
   ]
  },
  {
   "cell_type": "code",
   "execution_count": 2,
   "metadata": {},
   "outputs": [],
   "source": [
    "# data = pd.read_csv('data.csv')\n",
    "data = pd.read_csv('dataset_paper.csv')"
   ]
  },
  {
   "cell_type": "code",
   "execution_count": 3,
   "metadata": {},
   "outputs": [],
   "source": [
    "# data = df[:30000]"
   ]
  },
  {
   "cell_type": "code",
   "execution_count": 4,
   "metadata": {},
   "outputs": [
    {
     "data": {
      "text/plain": [
       "8"
      ]
     },
     "execution_count": 4,
     "metadata": {},
     "output_type": "execute_result"
    }
   ],
   "source": [
    "len(data['Seller Id'].unique())"
   ]
  },
  {
   "cell_type": "code",
   "execution_count": 5,
   "metadata": {},
   "outputs": [
    {
     "data": {
      "text/plain": [
       "9"
      ]
     },
     "execution_count": 5,
     "metadata": {},
     "output_type": "execute_result"
    }
   ],
   "source": [
    "len(data['Buyer ID'].unique())"
   ]
  },
  {
   "cell_type": "code",
   "execution_count": 6,
   "metadata": {},
   "outputs": [
    {
     "name": "stdout",
     "output_type": "stream",
     "text": [
      "Size of data is 49\n"
     ]
    }
   ],
   "source": [
    "print(f'Size of data is {len(data)}')"
   ]
  },
  {
   "cell_type": "code",
   "execution_count": 7,
   "metadata": {},
   "outputs": [],
   "source": [
    "seller_ids = data['Seller Id'].unique()\n",
    "buyer_ids = data['Buyer ID'].unique()\n",
    "# all_traders_ids = np.union1d(seller_ids, buyer_ids)\n",
    "# traders who are both sellers and buyers can be involved in circular trading\n",
    "trader_ids = np.intersect1d(seller_ids, buyer_ids)\n",
    "trader_ids_set = set(list(trader_ids))"
   ]
  },
  {
   "cell_type": "code",
   "execution_count": 8,
   "metadata": {},
   "outputs": [
    {
     "name": "stdout",
     "output_type": "stream",
     "text": [
      "Number of traders: 8\n"
     ]
    }
   ],
   "source": [
    "print(f'Number of traders: {len(trader_ids_set)}')"
   ]
  },
  {
   "cell_type": "code",
   "execution_count": 9,
   "metadata": {},
   "outputs": [],
   "source": [
    "adj_list = defaultdict(dict)"
   ]
  },
  {
   "cell_type": "code",
   "execution_count": 10,
   "metadata": {},
   "outputs": [],
   "source": [
    "for transaction_idx in range(len(data)):\n",
    "    seller_id = data.iloc[transaction_idx]['Seller Id']\n",
    "    buyer_id = data.iloc[transaction_idx]['Buyer ID']\n",
    "    quantity = data.iloc[transaction_idx]['Anount in Lakhs']\n",
    "    if seller_id not in trader_ids_set and buyer_id not in trader_ids_set:\n",
    "        continue\n",
    "    if buyer_id in adj_list[seller_id]:\n",
    "        adj_list[seller_id][buyer_id] += quantity\n",
    "    else:\n",
    "        adj_list[seller_id][buyer_id] = quantity"
   ]
  },
  {
   "cell_type": "code",
   "execution_count": 11,
   "metadata": {},
   "outputs": [],
   "source": [
    "# input k, m, h\n",
    "k = 6\n",
    "m = 1\n",
    "h = 0.6"
   ]
  },
  {
   "cell_type": "code",
   "execution_count": 12,
   "metadata": {},
   "outputs": [],
   "source": [
    "# retaining ony kNN for each node\n",
    "for trader_id in adj_list.keys():\n",
    "    if len(adj_list[trader_id]) <= k:\n",
    "        continue\n",
    "    adj_list[trader_id] = dict(sorted(adj_list[trader_id].items(), key=lambda item: -item[1]))\n",
    "    kNN_neighbours = {key: adj_list[trader_id][key] for key in list(adj_list[trader_id].keys())[:k]}\n",
    "    adj_list[trader_id] = kNN_neighbours"
   ]
  },
  {
   "cell_type": "code",
   "execution_count": 13,
   "metadata": {},
   "outputs": [],
   "source": [
    "collusion_sets = [[trader_id] for trader_id in trader_ids]"
   ]
  },
  {
   "cell_type": "code",
   "execution_count": 14,
   "metadata": {},
   "outputs": [],
   "source": [
    "# collusion_sets"
   ]
  },
  {
   "cell_type": "code",
   "execution_count": 15,
   "metadata": {},
   "outputs": [
    {
     "data": {
      "text/plain": [
       "8"
      ]
     },
     "execution_count": 15,
     "metadata": {},
     "output_type": "execute_result"
    }
   ],
   "source": [
    "len(collusion_sets)"
   ]
  },
  {
   "cell_type": "code",
   "execution_count": 16,
   "metadata": {},
   "outputs": [],
   "source": [
    "def find_collusion_index(cluster):\n",
    "    if len(cluster) == 1 and cluster[0] not in adj_list[cluster[0]]:\n",
    "        return 0\n",
    "    \n",
    "    internal_trading = 0\n",
    "    external_trading = 0\n",
    "    \n",
    "    cluster_set = set(cluster)\n",
    "    \n",
    "    for i in range(len(cluster)):\n",
    "        # cluster[i] is seller, j is buyer\n",
    "        for j in adj_list[cluster[i]]:\n",
    "            if j in cluster_set:\n",
    "                internal_trading += adj_list[cluster[i]][j]\n",
    "            else:\n",
    "                external_trading += adj_list[cluster[i]][j]\n",
    "        \n",
    "        # cluster[i] is buyer, j is seller\n",
    "        for j in seller_ids:\n",
    "            if j in cluster_set:\n",
    "                continue\n",
    "            if cluster[i] in adj_list[j]:\n",
    "                external_trading += adj_list[j][cluster[i]]\n",
    "        \n",
    "#         # internal trading\n",
    "#         for j in range(i+1, len(cluster)):\n",
    "#             if cluster[j] in  adj_list[cluster[i]]:\n",
    "#                 internal_trading += adj_list[cluster[i]][cluster[j]]\n",
    "                \n",
    "#         # external trading\n",
    "#         for j in all_trader_ids:\n",
    "#             if j in cluster_set:\n",
    "#                 continue\n",
    "            \n",
    "#             # i is seller and j is buyer\n",
    "#             if j in adj_list[cluster[i]]:\n",
    "#                 external_trading += adj_list[cluster[i]][j]\n",
    "                \n",
    "#             # j is seller and i is buyer\n",
    "#             if i in adj_list[j]:\n",
    "#                 external_trading += adj_list[j][cluster[i]]\n",
    "    if external_trading == 0:\n",
    "        return float('INF')\n",
    "    collusion_index = internal_trading/external_trading\n",
    "    return collusion_index"
   ]
  },
  {
   "cell_type": "code",
   "execution_count": 17,
   "metadata": {},
   "outputs": [],
   "source": [
    "def find_collusion_level(cluster_1, cluster_2):\n",
    "    union_cluster = np.union1d(cluster_1, cluster_2)\n",
    "    collusion_index = find_collusion_index(union_cluster)\n",
    "    return collusion_index"
   ]
  },
  {
   "cell_type": "code",
   "execution_count": 18,
   "metadata": {},
   "outputs": [],
   "source": [
    "def find_collusion_levels():\n",
    "    collusion_levels = []\n",
    "    for i in range(len(collusion_sets)):\n",
    "        for j in range(i+1, len(collusion_sets)):\n",
    "            cluster_1 = collusion_sets[i]\n",
    "            cluster_2 = collusion_sets[j]\n",
    "            #print(cluster_1, cluster_2)\n",
    "            collusion_level = find_collusion_level(cluster_1, cluster_2)\n",
    "            collusion_levels.append([collusion_level, cluster_1, cluster_2])\n",
    "    collusion_levels.sort(reverse=True)\n",
    "    return collusion_levels"
   ]
  },
  {
   "cell_type": "code",
   "execution_count": 19,
   "metadata": {},
   "outputs": [],
   "source": [
    "def check_point_compatibility(point, cluster):\n",
    "    cluster_set = set(cluster)\n",
    "    n_cluster = len(cluster)\n",
    "    close_neighbours = 0\n",
    "    for neighbour in adj_list[point]:\n",
    "        if neighbour in cluster_set:\n",
    "            close_neighbours += 1\n",
    "    return (close_neighbours >= min(m, n_cluster))"
   ]
  },
  {
   "cell_type": "code",
   "execution_count": 20,
   "metadata": {},
   "outputs": [],
   "source": [
    "# k, m, h compatiblity\n",
    "def check_cluster_compatibility(cluster_1, cluster_2):\n",
    "    n_points_1 = len(cluster_1)\n",
    "    n_points_2 = len(cluster_2)\n",
    "    \n",
    "    compatible_points = 0\n",
    "    for point in cluster_1:\n",
    "        if check_point_compatibility(point, cluster_2):\n",
    "            compatible_points += 1\n",
    "    if compatible_points >= h*n_points_1:\n",
    "        return True"
   ]
  },
  {
   "cell_type": "code",
   "execution_count": 21,
   "metadata": {},
   "outputs": [
    {
     "name": "stdout",
     "output_type": "stream",
     "text": [
      "Collusion set size: 8\n",
      "Collusion set size: 7\n",
      "Collusion set size: 6\n",
      "Collusion set size: 5\n",
      "Collusion set size: 4\n",
      "Collusion set size: 3\n"
     ]
    }
   ],
   "source": [
    "while(True):\n",
    "    print(f'Collusion set size: {len(collusion_sets)}')\n",
    "    collusion_levels = find_collusion_levels()\n",
    "#     print(f'Collusion levels size: {len(collusion_levels)}')\n",
    "    compatible_pair_exists = False\n",
    "    for i in range(len(collusion_levels)):\n",
    "        #print(i, end=' ')\n",
    "        cluster_1 = collusion_levels[i][1]\n",
    "        cluster_2 = collusion_levels[i][2]\n",
    "        collusion_level = collusion_levels[i][0]\n",
    "        if collusion_level == 0:\n",
    "            continue\n",
    "        if (check_cluster_compatibility(cluster_1, cluster_2) and\n",
    "            check_cluster_compatibility(cluster_2, cluster_1)):\n",
    "            collusion_sets.remove(cluster_1)\n",
    "            collusion_sets.remove(cluster_2)\n",
    "            collusion_sets.append(cluster_1 + cluster_2)\n",
    "            compatible_pair_exists = True\n",
    "#             print(f'{cluster_1} and {cluster_2} are merged')\n",
    "            break\n",
    "    if not compatible_pair_exists:\n",
    "        break"
   ]
  },
  {
   "cell_type": "code",
   "execution_count": 22,
   "metadata": {},
   "outputs": [
    {
     "data": {
      "text/plain": [
       "[[49], [57], [54, 37, 74, 29, 35, 42]]"
      ]
     },
     "execution_count": 22,
     "metadata": {},
     "output_type": "execute_result"
    }
   ],
   "source": [
    "collusion_sets"
   ]
  },
  {
   "cell_type": "code",
   "execution_count": 23,
   "metadata": {},
   "outputs": [],
   "source": [
    "new_collusion_sets = [collusion_set for collusion_set in collusion_sets if len(collusion_set) != 1]"
   ]
  },
  {
   "cell_type": "code",
   "execution_count": 24,
   "metadata": {},
   "outputs": [
    {
     "data": {
      "text/plain": [
       "[[54, 37, 74, 29, 35, 42]]"
      ]
     },
     "execution_count": 24,
     "metadata": {},
     "output_type": "execute_result"
    }
   ],
   "source": [
    "new_collusion_sets"
   ]
  },
  {
   "cell_type": "code",
   "execution_count": null,
   "metadata": {},
   "outputs": [],
   "source": []
  }
 ],
 "metadata": {
  "kernelspec": {
   "display_name": "Python 3",
   "language": "python",
   "name": "python3"
  },
  "language_info": {
   "codemirror_mode": {
    "name": "ipython",
    "version": 3
   },
   "file_extension": ".py",
   "mimetype": "text/x-python",
   "name": "python",
   "nbconvert_exporter": "python",
   "pygments_lexer": "ipython3",
   "version": "3.6.9"
  }
 },
 "nbformat": 4,
 "nbformat_minor": 4
}
